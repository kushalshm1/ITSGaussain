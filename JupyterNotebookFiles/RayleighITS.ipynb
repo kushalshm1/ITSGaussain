{
 "cells": [
  {
   "cell_type": "code",
   "execution_count": 6,
   "metadata": {},
   "outputs": [],
   "source": [
    "import numpy as np\n",
    "import math\n",
    "import matplotlib.pyplot as plt\n",
    "\n",
    "RaylghMode = 1.5\n",
    "MinValue = 0\n",
    "MaxValue = 15\n",
    "BinWidth = 0.5\n",
    "\n",
    "RandomVariableValues = np.linspace(MinValue,MaxValue,int((MaxValue-MinValue)/BinWidth))\n",
    "\n",
    "Frequency = [0]*(int((MaxValue-MinValue)/BinWidth))\n",
    "\n",
    "for i in range(0,10000):\n",
    "    \n",
    "    RaylghRV = RaylghMode * ((2*math.log(1/(1-np.random.uniform(0,1))))**(0.5))\n",
    "    Frequency[int(RaylghRV/BinWidth)] += 1"
   ]
  },
  {
   "cell_type": "code",
   "execution_count": 7,
   "metadata": {},
   "outputs": [
    {
     "data": {
      "image/png": "[encoded data removed]",
      "text/plain": [
       "<matplotlib.figure.Figure at 0x7f98c363f320>"
      ]
     },
     "metadata": {},
     "output_type": "display_data"
    }
   ],
   "source": [
    "plt.bar(RandomVariableValues,Frequency,BinWidth,align='center')\n",
    "plt.show()"
   ]
  },
  {
   "cell_type": "code",
   "execution_count": null,
   "metadata": {
    "collapsed": true
   },
   "outputs": [],
   "source": []
  }
 ],
 "metadata": {
  "kernelspec": {
   "display_name": "Python 3",
   "language": "python",
   "name": "python3"
  },
  "language_info": {
   "codemirror_mode": {
    "name": "ipython",
    "version": 3
   },
   "file_extension": ".py",
   "mimetype": "text/x-python",
   "name": "python",
   "nbconvert_exporter": "python",
   "pygments_lexer": "ipython3",
   "version": "3.6.3"
  }
 },
 "nbformat": 4,
 "nbformat_minor": 2
}
