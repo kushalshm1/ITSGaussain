{
 "cells": [
  {
   "cell_type": "code",
   "execution_count": 20,
   "metadata": {},
   "outputs": [
    {
     "name": "stderr",
     "output_type": "stream",
     "text": [
      "/home/jaskirat/Downloads/yes/lib/python3.6/site-packages/ipykernel_launcher.py:9: DeprecationWarning: object of type <class 'float'> cannot be safely interpreted as an integer.\n",
      "  if __name__ == '__main__':\n"
     ]
    }
   ],
   "source": [
    "import random\n",
    "import numpy as np\n",
    "import matplotlib.pyplot as plt\n",
    "\n",
    "UpperLimit = 5\n",
    "LowerLimit = -5\n",
    "BinWidth = 0.5\n",
    "\n",
    "RandomVariableValues = np.linspace(-5,5,20)\n",
    "\n",
    "Frequency = [0]*(int((UpperLimit - LowerLimit)/BinWidth))\n",
    "\n",
    "\n",
    "for i in range(0,100000):\n",
    "    \n",
    "    Frequency[int((UpperLimit+np.random.randn(1,1))/BinWidth)] += 1\n",
    "    \n",
    "plt.bar(RandomVariableValues,Freque)"
   ]
  },
  {
   "cell_type": "code",
   "execution_count": null,
   "metadata": {},
   "outputs": [],
   "source": []
  },
  {
   "cell_type": "code",
   "execution_count": null,
   "metadata": {
    "collapsed": true
   },
   "outputs": [],
   "source": []
  }
 ],
 "metadata": {
  "kernelspec": {
   "display_name": "Python 3",
   "language": "python",
   "name": "python3"
  },
  "language_info": {
   "codemirror_mode": {
    "name": "ipython",
    "version": 3
   },
   "file_extension": ".py",
   "mimetype": "text/x-python",
   "name": "python",
   "nbconvert_exporter": "python",
   "pygments_lexer": "ipython3",
   "version": "3.6.3"
  }
 },
 "nbformat": 4,
 "nbformat_minor": 2
}
