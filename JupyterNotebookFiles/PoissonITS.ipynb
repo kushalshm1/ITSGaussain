{
 "cells": [
  {
   "cell_type": "code",
   "execution_count": 5,
   "metadata": {},
   "outputs": [],
   "source": [
    "import numpy as np \n",
    "import matplotlib.pyplot as plt \n",
    "import math\n",
    "\n",
    "lmbda = 1\n",
    "MinValue = 0\n",
    "MaxValue = 10\n",
    "\n",
    "RandomVariableValues = np.linspace(MinValue,MaxValue,(MaxValue-MinValue))\n",
    "Frequency = [0]*(MaxValue - MinValue)\n",
    "\n",
    "def Factorial(K):\n",
    "    \n",
    "    if K == 0 or K == 1:\n",
    "        return 1\n",
    "    else:\n",
    "        return (K*Factorial(K-1))\n",
    "        \n",
    "\n",
    "def PoissonProbability(K):\n",
    "    return ((math.exp(-lmbda))*(lmbda**K))/Factorial(K)\n",
    "\n",
    "\n",
    "for i in range(0,10000):\n",
    "    \n",
    "    RandomProbability = np.random.uniform(0,1)\n",
    "    CummulativePoissonProbability = 0\n",
    "    K = 0\n",
    "    \n",
    "    while(CummulativePoissonProbability < RandomProbability):\n",
    "        \n",
    "        CummulativePoissonProbability += PoissonProbability(K)\n",
    "        K += 1\n",
    "        \n",
    "    K -= 1\n",
    "    \n",
    "    Frequency[K] += 1"
   ]
  },
  {
   "cell_type": "code",
   "execution_count": 6,
   "metadata": {},
   "outputs": [
    {
     "data": {
      "image/png": "[encoded data removed]",
      "text/plain": [
       "<matplotlib.figure.Figure at 0x17f468c8780>"
      ]
     },
     "metadata": {},
     "output_type": "display_data"
    }
   ],
   "source": [
    "plt.plot(RandomVariableValues,Frequency)\n",
    "plt.show()"
   ]
  },
  {
   "cell_type": "code",
   "execution_count": null,
   "metadata": {
    "collapsed": true
   },
   "outputs": [],
   "source": []
  }
 ],
 "metadata": {
  "kernelspec": {
   "display_name": "Python 3",
   "language": "python",
   "name": "python3"
  },
  "language_info": {
   "codemirror_mode": {
    "name": "ipython",
    "version": 3
   },
   "file_extension": ".py",
   "mimetype": "text/x-python",
   "name": "python",
   "nbconvert_exporter": "python",
   "pygments_lexer": "ipython3",
   "version": "3.6.4"
  }
 },
 "nbformat": 4,
 "nbformat_minor": 2
}
